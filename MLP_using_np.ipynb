{
 "cells": [
  {
   "cell_type": "markdown",
   "metadata": {},
   "source": [
    "# Introduction\n",
    "On this notebook I will explain the gradient decent and will train a MLP to achieve 96% accuracy on breast cancer dataset from Scikit.<br>\n",
    "I will explain the theory and functions sepetately in each cell and then put it altogether in a class in a seperate cell"
   ]
  },
  {
   "cell_type": "markdown",
   "metadata": {},
   "source": [
    "# Class Initilizier\n",
    "<br>\n",
    "\n",
    "The First thing we need to pass is the **Architecture** that is the structure of each layer. The for for this variable is a list/tuple consisting number of neurons in each layer. For example if we want to use a 4 layer MLP with 10, 5, 3 and 1 neurons then we need to pass `[10,5,3,1]` as input for this variable,<br>\n",
    "<br>\n",
    "\n",
    "The second argumrnt is **Activation**. Currently only ReLU and sigmoid functions are supported. If we have _n_ levels of neurons we need _n-1_ activation functions. If the activation used in all the layers are same you can pass a string 'sigmoid' or 'relu'. If you want to apply different activation activation function for each layer then you need to pass a list/tuple of _n-1_ strings consisting either __relu__ or __sigmoid__ <br>\n",
    "\n",
    "So let's say you have passed `[10, 5, 3, 1]` as `architecture. Now the activation will be applied to 3 layers. If you want to apply `sigmoid` to all 3 layers then you can do either `'sigmoid'` or `['sigmoid', 'sigmoid', 'sigmoid']`. If you want to apply different activations for different layers you can do `['sigmoid','relu', 'sigmoid']` <br> \n",
    "<br>\n",
    "\n",
    "You can set **Learning_rate** here or also while training.\n",
    "\n",
    "\\* **Other functions including Custoom functions wil be added later"
   ]
  },
  {
   "cell_type": "markdown",
   "metadata": {},
   "source": [
    "The Next thing you need to keep in mind that we need to store outputs of each layer. let's say output of one layer is __h1__ before activation after passing through activation function (ReLU, sigmoid or any other) it will be __a1__ <br>\n",
    "<br>\n",
    "\n",
    "<img src=\"images/Architecture.png\">\n",
    "\n",
    "We will also store activation function and derivative of that function on two lists named __activation__ and __prime_funcs__ respectively. <br>"
   ]
  },
  {
   "cell_type": "markdown",
   "metadata": {},
   "source": [
    "### Creating Weights and Biases of each layer\n",
    "The first function we will define is not \\__init\\__ <br>\n",
    "We will look into __create_weights_and_biases__ it takes number of input nodes and output nodes and creates weights and biases. It also initializes according to some initilization function. It returns a dictionary.<br>\n",
    "Let's consider you have passed `[10, 5, 3, 1]` as input so the layer with 10 neurons will be input and there will be 1 output neuron there will be 3 hidden states (between 10 and 5 neurons, between 5 and 3 neurons and between 3 and 1 neuron )\n",
    "\n",
    "```python\n",
    "def create_weights_and_biases(self, in_nodes, out_nodes):\n",
    "    std= np.sqrt(2.0/(in_nodes + out_nodes))\n",
    "    w= np.random.normal(loc= 0, scale= std, size= (in_nodes, out_nodes))\n",
    "    b= np.zeros((1, out_nodes))\n",
    "    return {'weight':w , 'bias':b}\n",
    "```\n",
    "\n"
   ]
  },
  {
   "cell_type": "markdown",
   "metadata": {},
   "source": [
    "### The initializer of class\n",
    "Inside the initializer function at the first we have assigned some variables which will be used throughout. The __Learning Rate__ can be set while declaring the class instance, it can be scheduled while training as well\n",
    "\n",
    "```python\n",
    "def __init__(self, architecture, activation= 'sigmoid', learning_rate= 0.001):\n",
    "        self.architecture= architecture\n",
    "        self.activation= []\n",
    "        self.lr= learning_rate\n",
    "        self.parameters=[]\n",
    "        self.buffered_op={}\n",
    "        self.prime_funcs=[]\n",
    "        \n",
    "        if isinstance(activation, str):\n",
    "            if activation.lower().strip() in ['relu', 'sigmoid']:\n",
    "                if activation.lower().strip()== 'relu':\n",
    "                    self.activation= [self.relu for x in range(len(self.architecture) - 1)]\n",
    "                    self.prime_funcs = [self.relu_prime for x in range(len(self.architecture) - 1)]\n",
    "                else:\n",
    "                    self.activation= [self.sigmoid for x in range(len(self.architecture) - 1)]\n",
    "                    self.prime_funcs = [self.sigmoid_prime for x in range(len(self.architecture) - 1)]\n",
    "                    \n",
    "            else:\n",
    "                raise ValueError(\"activation Value should be either relu or sigmoid\")\n",
    "                \n",
    "        elif isinstance(activation, list):\n",
    "            if len(activation)+1 != len(self.architecture):\n",
    "                raise ValueError(\"Number of Activations is not compatible with architecture\")\n",
    "            \n",
    "            for func in activation:\n",
    "                if isinstance(func, str):\n",
    "                    self.activation.append(self.relu if func.lower().strip()== 'relu' else self.sigmoid)\n",
    "                    self.prime_funcs.append(self.relu_prime if func.lower().strip()== 'relu' \\\n",
    "                                            else self.sigmoid_prime)\n",
    "                    \n",
    "                else:\n",
    "                    raise ValueError(\"Custom fuctions are not supported yet\")\n",
    "                    \n",
    "        \n",
    "        for i in range(len(architecture) -1):\n",
    "            layer_parameters= self.create_weights_and_biases(architecture[i], architecture[i + 1])\n",
    "            self.parameters.append(layer_parameters)\n",
    "```"
   ]
  },
  {
   "cell_type": "markdown",
   "metadata": {},
   "source": [
    "#### Sigmoid Function\n",
    "$$\n",
    "sig(x)= \\frac{1}{1+e^{-x}}\n",
    "$$\n",
    "<br>\n",
    "#### Sigmoid prime function\n",
    "$$\n",
    "sig'(x)= sig(x) * ( 1- sig(x))\n",
    "$$ \n",
    "<br>\n",
    "The derivative of sigmoid is explained in details [in this article](https://towardsdatascience.com/derivative-of-the-sigmoid-function-536880cf918e)"
   ]
  },
  {
   "cell_type": "code",
   "execution_count": 1,
   "metadata": {},
   "outputs": [],
   "source": [
    "import numpy as np"
   ]
  },
  {
   "cell_type": "code",
   "execution_count": 15,
   "metadata": {},
   "outputs": [],
   "source": [
    "class Network:\n",
    "    \n",
    "    def __init__(self, architecture, activation= 'sigmoid', learning_rate= 0.001):\n",
    "        self.architecture= architecture\n",
    "        self.activation= []\n",
    "        self.lr= learning_rate\n",
    "        self.parameters=[]\n",
    "        self.buffered_op={}\n",
    "        self.prime_funcs=[]\n",
    "        \n",
    "        if isinstance(activation, str):\n",
    "            if activation.lower().strip() in ['relu', 'sigmoid']:\n",
    "                if activation.lower().strip()== 'relu':\n",
    "                    self.activation= [self.relu for x in range(len(self.architecture) - 1)]\n",
    "                    self.prime_funcs = [self.relu_prime for x in range(len(self.architecture) - 1)]\n",
    "                else:\n",
    "                    self.activation= [self.sigmoid for x in range(len(self.architecture) - 1)]\n",
    "                    self.prime_funcs = [self.sigmoid_prime for x in range(len(self.architecture) - 1)]\n",
    "                    \n",
    "            else:\n",
    "                raise ValueError(\"activation Value should be either relu or sigmoid\")\n",
    "                \n",
    "        elif isinstance(activation, list):\n",
    "            if len(activation)+1 != len(self.architecture):\n",
    "                raise ValueError(\"Number of Activations is not compatible with architecture\")\n",
    "            \n",
    "            for func in activation:\n",
    "                if isinstance(func, str):\n",
    "                    self.activation.append(self.relu if func.lower().strip()== 'relu' else self.sigmoid)\n",
    "                    self.prime_funcs.append(self.relu_prime if func.lower().strip()== 'relu' \\\n",
    "                                            else self.sigmoid_prime)\n",
    "                    \n",
    "                else:\n",
    "                    raise ValueError(\"Custom fuctions are not supported yet\")\n",
    "                    \n",
    "        \n",
    "        for i in range(len(architecture) -1):\n",
    "            layer_parameters= self.create_weights_and_biases(architecture[i], architecture[i + 1])\n",
    "            self.parameters.append(layer_parameters)\n",
    "        \n",
    "        \n",
    "    def create_weights_and_biases(self, in_nodes, out_nodes):\n",
    "        std= np.sqrt(2.0/(in_nodes + out_nodes))\n",
    "        w= np.random.normal(loc= 0, scale= std, size= (in_nodes, out_nodes))\n",
    "        b= np.zeros((1, out_nodes))\n",
    "        return {'weight':w , 'bias':b}\n",
    "    \n",
    "    def sigmoid(self, x):\n",
    "        return 1 / (1 + np.exp(-x))\n",
    "    \n",
    "    def relu(self, x):\n",
    "        x[x<=0]= 0\n",
    "        return x\n",
    "    \n",
    "    def sigmoid_prime(self, x):\n",
    "        return self.sigmoid(x) * (1 - self.sigmoid(x))    \n",
    "    \n",
    "    def relu_prime(self, x):\n",
    "        x[x>0]= 1\n",
    "        return x\n",
    "\n",
    "    def forward_pass(self, x):\n",
    "        if x.ndim == 1:\n",
    "            x= x.reshape((1, -1))\n",
    "        self.buffered_op['a0']= x\n",
    "        for i, parameter in enumerate(self.parameters):\n",
    "            w= parameter['weight']\n",
    "            b= parameter['bias']\n",
    "            actv_func= self.activation[i]\n",
    "            \n",
    "            h= np.matmul(x, w) + b\n",
    "            a= actv_func(h)\n",
    "            self.buffered_op['h' + str(i+1)]= h\n",
    "            self.buffered_op['a' + str(i+1)]= a\n",
    "            x= a\n",
    "        return a\n",
    "    \n",
    "    def loss(self, y_cap, y):\n",
    "        return (y - y_cap) ** 2 #MSE\n",
    "    \n",
    "    def loss_prime(self, y_cap, y):\n",
    "        return -2 * (y - y_cap)\n",
    "    \n",
    "    def backpropagation(self,y_cap, y):\n",
    "        #last_layer= True\n",
    "        layer_error= self.loss_prime( y_cap, y)\n",
    "        gradients= []\n",
    "        batch_size= y_cap.shape[0]\n",
    "        \n",
    "        \n",
    "        for layer_idx in range(len(self.architecture) - 1, 0 , -1):\n",
    "            prime_func= self.prime_funcs[layer_idx - 1]\n",
    "            h_cur= self.buffered_op['h'+str(layer_idx)]\n",
    "            a_prev= self.buffered_op['a'+str(layer_idx - 1)]\n",
    "            \n",
    "            \n",
    "            error_term= layer_error * prime_func(h_cur)\n",
    "            del_w= np.matmul(error_term.T , a_prev)\n",
    "            del_b= error_term.sum(axis= 0)\n",
    "            gradients.append((del_w, del_b))\n",
    "            \n",
    "            #updating layer_error term for next iteration\n",
    "            layer_error= np.matmul(error_term , self.parameters[layer_idx -1]['weight'].T)\n",
    "            \n",
    "        gradients.reverse()\n",
    "        \n",
    "        #updating the weights:\n",
    "        for i in range(len(self.parameters)):\n",
    "            self.parameters[i]['weight'] -= (self.lr / batch_size) * gradients[i][0].T\n",
    "            self.parameters[i]['bias'] -= (self.lr / batch_size) * gradients[i][1]\n",
    "            \n",
    "    def train(self, train_x, train_y, epochs= 5, learning_rate= 0.01, batch_size= 1):\n",
    "        no_of_records= train_x.shape[0]\n",
    "        self.lr= learning_rate\n",
    "    \n",
    "        for epoch in range(epochs):\n",
    "            epoch_error= 0\n",
    "            for n in range(batch_size, no_of_records, batch_size):\n",
    "                x_batch= train_x[n- batch_size: n]\n",
    "                y_batch= train_y[n- batch_size: n]\n",
    "        \n",
    "                y_cap= self.forward_pass(x_batch)\n",
    "                batch_error= self.loss(y_cap, y_batch)\n",
    "                #print(batch_error.shape)\n",
    "                epoch_error+= batch_error.sum()\n",
    "                self.backpropagation(y_cap, y_batch)\n",
    "        \n",
    "            print(\"Epoch {} - Training Loss - {}\\n\".format(epoch+1, epoch_error))\n",
    "            \n",
    "            "
   ]
  },
  {
   "cell_type": "code",
   "execution_count": 3,
   "metadata": {},
   "outputs": [],
   "source": [
    "from sklearn.datasets import load_breast_cancer\n",
    "from sklearn.preprocessing import StandardScaler\n",
    "from sklearn.model_selection import train_test_split"
   ]
  },
  {
   "cell_type": "code",
   "execution_count": 4,
   "metadata": {},
   "outputs": [
    {
     "name": "stdout",
     "output_type": "stream",
     "text": [
      "<class 'numpy.ndarray'>\n",
      "(569, 30)\n"
     ]
    }
   ],
   "source": [
    "data= load_breast_cancer()\n",
    "x= data.data\n",
    "y= data.target\n",
    "cols= data.target_names\n",
    "print(type(x))\n",
    "print(x.shape)"
   ]
  },
  {
   "cell_type": "code",
   "execution_count": 5,
   "metadata": {},
   "outputs": [],
   "source": [
    "scaler= StandardScaler()\n",
    "scaler.fit(x)\n",
    "scaled_x= scaler.transform(x)"
   ]
  },
  {
   "cell_type": "code",
   "execution_count": 6,
   "metadata": {},
   "outputs": [
    {
     "data": {
      "text/plain": [
       "array([0, 0, 0, 0, 0])"
      ]
     },
     "execution_count": 6,
     "metadata": {},
     "output_type": "execute_result"
    }
   ],
   "source": [
    "y[:5]"
   ]
  },
  {
   "cell_type": "code",
   "execution_count": 7,
   "metadata": {},
   "outputs": [
    {
     "name": "stdout",
     "output_type": "stream",
     "text": [
      "(455, 30)\n"
     ]
    }
   ],
   "source": [
    "y= y.reshape((-1,1))\n",
    "x_train, x_test, y_train, y_test= train_test_split(scaled_x, y, test_size= 0.2, \n",
    "                                                   shuffle= True, random_state= 711)\n",
    "print(x_train.shape)"
   ]
  },
  {
   "cell_type": "code",
   "execution_count": 16,
   "metadata": {},
   "outputs": [
    {
     "name": "stdout",
     "output_type": "stream",
     "text": [
      "Epoch 1 - Training Loss - 99.83404976116122\n",
      "\n",
      "Epoch 2 - Training Loss - 80.1516461945468\n",
      "\n",
      "Epoch 3 - Training Loss - 59.87605354535778\n",
      "\n",
      "Epoch 4 - Training Loss - 44.04947539042074\n",
      "\n",
      "Epoch 5 - Training Loss - 32.49447697018934\n",
      "\n",
      "Epoch 6 - Training Loss - 24.115135585056006\n",
      "\n",
      "Epoch 7 - Training Loss - 18.541705552546983\n",
      "\n",
      "Epoch 8 - Training Loss - 15.122142021692751\n",
      "\n",
      "Epoch 9 - Training Loss - 12.978192744810874\n",
      "\n",
      "Epoch 10 - Training Loss - 11.542966640589192\n",
      "\n",
      "Epoch 11 - Training Loss - 10.526460748120416\n",
      "\n",
      "Epoch 12 - Training Loss - 9.770086254523843\n",
      "\n",
      "Epoch 13 - Training Loss - 9.188356444923578\n",
      "\n",
      "Epoch 14 - Training Loss - 8.723530622856948\n",
      "\n",
      "Epoch 15 - Training Loss - 8.344553180427846\n",
      "\n",
      "Epoch 16 - Training Loss - 8.027487554992463\n",
      "\n",
      "Epoch 17 - Training Loss - 7.759651752526115\n",
      "\n",
      "Epoch 18 - Training Loss - 7.526697005272587\n",
      "\n",
      "Epoch 19 - Training Loss - 7.3214430098351375\n",
      "\n",
      "Epoch 20 - Training Loss - 7.140480818919122\n",
      "\n",
      "Epoch 21 - Training Loss - 6.9778053909038995\n",
      "\n",
      "Epoch 22 - Training Loss - 6.830844917152881\n",
      "\n",
      "Epoch 23 - Training Loss - 6.697554946726857\n",
      "\n",
      "Epoch 24 - Training Loss - 6.575540698757561\n",
      "\n",
      "Epoch 25 - Training Loss - 6.463876346471758\n",
      "\n"
     ]
    }
   ],
   "source": [
    "neu_net= Network([30, 10, 5, 1], ['sigmoid', 'relu', 'sigmoid'])\n",
    "neu_net.train( x_train, y_train, epochs= 25, learning_rate= 0.1, batch_size= 8)"
   ]
  },
  {
   "cell_type": "code",
   "execution_count": 17,
   "metadata": {},
   "outputs": [],
   "source": [
    "def acuracy_check_binary_classifier(predicted, actual):\n",
    "    y_test_cap= np.zeros_like(predicted)\n",
    "    y_test_cap[predicted >= 0.5] = 1\n",
    "    correct_pred_count= (y_test_cap== actual).sum()\n",
    "    return 100 * correct_pred_count / len(actual)"
   ]
  },
  {
   "cell_type": "code",
   "execution_count": 18,
   "metadata": {},
   "outputs": [
    {
     "name": "stdout",
     "output_type": "stream",
     "text": [
      "97.36842105263158\n"
     ]
    }
   ],
   "source": [
    "pred= neu_net.forward_pass(x_test)\n",
    "print(acuracy_check_binary_classifier(pred, y_test))"
   ]
  },
  {
   "cell_type": "code",
   "execution_count": null,
   "metadata": {},
   "outputs": [],
   "source": []
  }
 ],
 "metadata": {
  "kernelspec": {
   "display_name": "Python 3",
   "language": "python",
   "name": "python3"
  },
  "language_info": {
   "codemirror_mode": {
    "name": "ipython",
    "version": 3
   },
   "file_extension": ".py",
   "mimetype": "text/x-python",
   "name": "python",
   "nbconvert_exporter": "python",
   "pygments_lexer": "ipython3",
   "version": "3.8.3"
  }
 },
 "nbformat": 4,
 "nbformat_minor": 4
}
