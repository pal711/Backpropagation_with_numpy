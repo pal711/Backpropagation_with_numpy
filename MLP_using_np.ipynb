{
 "cells": [
  {
   "cell_type": "markdown",
   "metadata": {},
   "source": [
    "# Introduction\n",
    "This "
   ]
  },
  {
   "cell_type": "code",
   "execution_count": 1,
   "metadata": {},
   "outputs": [],
   "source": [
    "import numpy as np\n"
   ]
  },
  {
   "cell_type": "code",
   "execution_count": 85,
   "metadata": {},
   "outputs": [],
   "source": [
    "class Network:\n",
    "    \n",
    "    def __init__(self, architecture, activation= 'sigmoid', learning_rate= 0.001):\n",
    "        self.architecture= architecture\n",
    "        #self.activation= activation\n",
    "        self.lr= learning_rate\n",
    "        self.parameters=[]\n",
    "        self.buffered_op={}\n",
    "        #self.prime_funcs=[]\n",
    "        \n",
    "        if isinstance(activation, str):\n",
    "            if activation.lower().strip() in ['relu', 'sigmoid']:\n",
    "                if activation.lower().strip()== 'relu':\n",
    "                    self.activation= [self.relu for x in range(len(self.architecture) - 1)]\n",
    "                    self.prime_funcs = [self.relu_prime for x in range(len(self.architecture) - 1)]\n",
    "                else:\n",
    "                    self.activation= [self.sigmoid for x in range(len(self.architecture) - 1)]\n",
    "                    self.prime_funcs = [self.sigmoid_prime for x in range(len(self.architecture) - 1)]\n",
    "                    \n",
    "            else:\n",
    "                raise ValueError(\"activation Value should be either relu or sigmoid\")\n",
    "                    \n",
    "        \n",
    "        for i in range(len(architecture) -1):\n",
    "            layer_parameters= self.create_weights_and_biases(architecture[i], architecture[i + 1])\n",
    "            self.parameters.append(layer_parameters)\n",
    "        \n",
    "        \n",
    "    def create_weights_and_biases(self, in_nodes, out_nodes):\n",
    "        std= np.sqrt(2.0/(in_nodes + out_nodes))\n",
    "        w= np.random.normal(loc= 0, scale= std, size= (in_nodes, out_nodes))\n",
    "        b= np.zeros((1, out_nodes))\n",
    "        return {'weight':w , 'bias':b}\n",
    "    \n",
    "    def sigmoid(self, x):\n",
    "        return 1 / (1 + np.exp(-x))\n",
    "    \n",
    "    def relu(self, x):\n",
    "        return 0 if x<0 else x\n",
    "    \n",
    "    def sigmoid_prime(self, x):\n",
    "        return self.sigmoid(x) * (1 - self.sigmoid(x))    \n",
    "    \n",
    "    def relu_prime(self, x):\n",
    "        return 1 if x>0 else 0\n",
    "\n",
    "    def forward_pass(self, x):\n",
    "        if x.ndim == 1:\n",
    "            x= x.reshape((1, -1))\n",
    "        self.buffered_op['a0']= x\n",
    "        for i, parameter in enumerate(self.parameters):\n",
    "            w= parameter['weight']\n",
    "            b= parameter['bias']\n",
    "            actv_func= self.activation[i]\n",
    "            \n",
    "            h= np.matmul(x, w) + b\n",
    "            a= actv_func(h)\n",
    "            self.buffered_op['h' + str(i+1)]= h\n",
    "            self.buffered_op['a' + str(i+1)]= a\n",
    "            x= a\n",
    "        return a\n",
    "    \n",
    "    def loss(self, y_cap, y):\n",
    "        return (y - y_cap) ** 2 #MSE\n",
    "    \n",
    "    def loss_prime(self, y_cap, y):\n",
    "        return -2 * (y - y_cap)\n",
    "    \n",
    "    def backpropagation(self,y_cap, y):\n",
    "        last_layer= True\n",
    "        layer_error= self.loss_prime( y_cap, y)\n",
    "        gradients= []\n",
    "        \n",
    "        for layer_idx in range(len(self.architecture) - 1, 0 , -1):\n",
    "            print(layer_idx)\n",
    "            prime_func= self.prime_funcs[layer_idx - 1]\n",
    "            h_cur= self.buffered_op['h'+str(layer_idx)]\n",
    "            a_prev= self.buffered_op['a'+str(layer_idx - 1)]\n",
    "            \n",
    "            \n",
    "            error_term= layer_error * prime_func(h_cur)\n",
    "            print(error_term.T.shape)\n",
    "            print(a_prev.shape)\n",
    "            del_w= np.matmul(error_term.T , a_prev)\n",
    "            del_b= error_term.sum(axis= 1)\n",
    "            gradients.append((del_w, del_b))\n",
    "            \n",
    "            #update the layer_error for nxt iter\n",
    "            layer_error= np.matmul(error_term , self.parameters[layer_idx -1]['weight'].T)\n",
    "            \n",
    "        gradients.reverse()\n",
    "        \n",
    "        #updating the weights:\n",
    "        for i in range(len(self.parameters)):\n",
    "            self.parameters[i]['weight'] -= self.lr * gradients[i][0].T\n",
    "            self.parameters[i]['bias'] -= self.lr * gradients[i][1]\n",
    "            \n",
    "            "
   ]
  },
  {
   "cell_type": "code",
   "execution_count": 86,
   "metadata": {},
   "outputs": [],
   "source": [
    "nn= Network([5, 3, 1], learning_rate= 0.01)"
   ]
  },
  {
   "cell_type": "code",
   "execution_count": 87,
   "metadata": {},
   "outputs": [
    {
     "name": "stdout",
     "output_type": "stream",
     "text": [
      "[[0.40895125]\n",
      " [0.25801732]]\n"
     ]
    }
   ],
   "source": [
    "ip= np.array([[1,3,5,7,9],[5,1,2,4,8]])\n",
    "op= nn.forward_pass(ip)\n",
    "print(op)"
   ]
  },
  {
   "cell_type": "code",
   "execution_count": 89,
   "metadata": {},
   "outputs": [
    {
     "name": "stdout",
     "output_type": "stream",
     "text": [
      "2\n",
      "(2, 2)\n",
      "(2, 3)\n"
     ]
    },
    {
     "ename": "ValueError",
     "evalue": "matmul: Input operand 1 has a mismatch in its core dimension 0, with gufunc signature (n?,k),(k,m?)->(n?,m?) (size 1 is different from 2)",
     "output_type": "error",
     "traceback": [
      "\u001b[0;31m---------------------------------------------------------------------------\u001b[0m",
      "\u001b[0;31mValueError\u001b[0m                                Traceback (most recent call last)",
      "\u001b[0;32m<ipython-input-89-20ec871cd616>\u001b[0m in \u001b[0;36m<module>\u001b[0;34m\u001b[0m\n\u001b[1;32m      1\u001b[0m \u001b[0mexp_op\u001b[0m\u001b[0;34m=\u001b[0m \u001b[0mnp\u001b[0m\u001b[0;34m.\u001b[0m\u001b[0marray\u001b[0m\u001b[0;34m(\u001b[0m\u001b[0;34m[\u001b[0m\u001b[0;36m1.0\u001b[0m\u001b[0;34m,\u001b[0m \u001b[0;36m0.0\u001b[0m\u001b[0;34m]\u001b[0m\u001b[0;34m)\u001b[0m\u001b[0;34m\u001b[0m\u001b[0;34m\u001b[0m\u001b[0m\n\u001b[0;32m----> 2\u001b[0;31m \u001b[0mnn\u001b[0m\u001b[0;34m.\u001b[0m\u001b[0mbackpropagation\u001b[0m\u001b[0;34m(\u001b[0m\u001b[0mop\u001b[0m\u001b[0;34m,\u001b[0m \u001b[0mexp_op\u001b[0m\u001b[0;34m)\u001b[0m\u001b[0;34m\u001b[0m\u001b[0;34m\u001b[0m\u001b[0m\n\u001b[0m",
      "\u001b[0;32m<ipython-input-85-e69e5fc70eb6>\u001b[0m in \u001b[0;36mbackpropagation\u001b[0;34m(self, y_cap, y)\u001b[0m\n\u001b[1;32m     87\u001b[0m \u001b[0;34m\u001b[0m\u001b[0m\n\u001b[1;32m     88\u001b[0m             \u001b[0;31m#update the layer_error for nxt iter\u001b[0m\u001b[0;34m\u001b[0m\u001b[0;34m\u001b[0m\u001b[0;34m\u001b[0m\u001b[0m\n\u001b[0;32m---> 89\u001b[0;31m             \u001b[0mlayer_error\u001b[0m\u001b[0;34m=\u001b[0m \u001b[0mnp\u001b[0m\u001b[0;34m.\u001b[0m\u001b[0mmatmul\u001b[0m\u001b[0;34m(\u001b[0m\u001b[0merror_term\u001b[0m \u001b[0;34m,\u001b[0m \u001b[0mself\u001b[0m\u001b[0;34m.\u001b[0m\u001b[0mparameters\u001b[0m\u001b[0;34m[\u001b[0m\u001b[0mlayer_idx\u001b[0m \u001b[0;34m-\u001b[0m\u001b[0;36m1\u001b[0m\u001b[0;34m]\u001b[0m\u001b[0;34m[\u001b[0m\u001b[0;34m'weight'\u001b[0m\u001b[0;34m]\u001b[0m\u001b[0;34m.\u001b[0m\u001b[0mT\u001b[0m\u001b[0;34m)\u001b[0m\u001b[0;34m\u001b[0m\u001b[0;34m\u001b[0m\u001b[0m\n\u001b[0m\u001b[1;32m     90\u001b[0m \u001b[0;34m\u001b[0m\u001b[0m\n\u001b[1;32m     91\u001b[0m         \u001b[0mgradients\u001b[0m\u001b[0;34m.\u001b[0m\u001b[0mreverse\u001b[0m\u001b[0;34m(\u001b[0m\u001b[0;34m)\u001b[0m\u001b[0;34m\u001b[0m\u001b[0;34m\u001b[0m\u001b[0m\n",
      "\u001b[0;31mValueError\u001b[0m: matmul: Input operand 1 has a mismatch in its core dimension 0, with gufunc signature (n?,k),(k,m?)->(n?,m?) (size 1 is different from 2)"
     ]
    }
   ],
   "source": [
    "exp_op= np.array([1.0, 0.0])\n",
    "nn.backpropagation(op, exp_op)"
   ]
  },
  {
   "cell_type": "code",
   "execution_count": 83,
   "metadata": {},
   "outputs": [
    {
     "name": "stdout",
     "output_type": "stream",
     "text": [
      "[[0.57565681]]\n"
     ]
    }
   ],
   "source": [
    "ip= np.array([1,3,5,7,9])\n",
    "op= nn.forward_pass(ip)\n",
    "print(op)"
   ]
  },
  {
   "cell_type": "code",
   "execution_count": null,
   "metadata": {},
   "outputs": [],
   "source": []
  }
 ],
 "metadata": {
  "kernelspec": {
   "display_name": "Python 3",
   "language": "python",
   "name": "python3"
  },
  "language_info": {
   "codemirror_mode": {
    "name": "ipython",
    "version": 3
   },
   "file_extension": ".py",
   "mimetype": "text/x-python",
   "name": "python",
   "nbconvert_exporter": "python",
   "pygments_lexer": "ipython3",
   "version": "3.8.3"
  }
 },
 "nbformat": 4,
 "nbformat_minor": 4
}
