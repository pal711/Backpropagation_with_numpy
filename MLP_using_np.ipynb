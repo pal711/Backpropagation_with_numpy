{
 "cells": [
  {
   "cell_type": "markdown",
   "metadata": {},
   "source": [
    "# Introduction\n",
    "This "
   ]
  },
  {
   "cell_type": "code",
   "execution_count": 1,
   "metadata": {},
   "outputs": [],
   "source": [
    "import numpy as np\n"
   ]
  },
  {
   "cell_type": "code",
   "execution_count": 2,
   "metadata": {},
   "outputs": [],
   "source": [
    "class Network:\n",
    "    \n",
    "    def __init__(self, architecture, activation= 'sigmoid'):\n",
    "        self.architecture= architecture\n",
    "        self.activation= activation\n",
    "        self.parameters=[]\n",
    "        self.buffered_op={}\n",
    "        \n",
    "        if type(self.activation) != str:\n",
    "            assert len(self.activation) + 1 == len(self.architecture)\n",
    "        for i in range(len(architecture) -1):\n",
    "            layer_parameters= self.create_weights_and_biases(architecture[i], architecture[i + 1])\n",
    "            self.parameters.append(layer_parameters)\n",
    "        \n",
    "        \n",
    "    def create_weights_and_biases(self, in_nodes, out_nodes):\n",
    "        std= np.sqrt(2.0/(in_nodes + out_nodes))\n",
    "        w= np.random.normal(loc= 0, scale= std, size= (in_nodes, out_nodes))\n",
    "        b= np.zeros((1, out_nodes))\n",
    "        return {'weight':w , 'bias':b}\n",
    "    \n",
    "    def sigmoid(self, x):\n",
    "        return 1 / (1 + np.exp(-x))\n",
    "    \n",
    "    def relu(self, x):\n",
    "        return 0 if x<0 else x\n",
    "    \n",
    "    def forward_pass(self, x):\n",
    "        \n",
    "        for i, parameter in enumerate(self.parameter):\n",
    "            w= parameter['weight']\n",
    "            b= parameter['bias']\n",
    "            if type(self.activation) != str:\n",
    "                activation= self.activation[i]\n",
    "            \n",
    "            if not callable(activation):\n",
    "                if lower(activation)=='sigmoid':\n",
    "                    activation= self.sigmoid\n",
    "                elif lower(activation) == 'relu':\n",
    "                    activation= self.relu\n",
    "                else:\n",
    "                    raise Exception(\"Sorry, only relu and sigmoid supported currently\") \n",
    "            \n",
    "            h= np.matmul(x, w) + b\n",
    "            a= activation(h)\n",
    "            self.buffered_op['h' + str(i)]= h\n",
    "            self.buffered_op['b' + str(i)]= a\n",
    "        return a\n",
    "            \n",
    "        "
   ]
  },
  {
   "cell_type": "code",
   "execution_count": null,
   "metadata": {},
   "outputs": [],
   "source": []
  }
 ],
 "metadata": {
  "kernelspec": {
   "display_name": "Python 3",
   "language": "python",
   "name": "python3"
  },
  "language_info": {
   "codemirror_mode": {
    "name": "ipython",
    "version": 3
   },
   "file_extension": ".py",
   "mimetype": "text/x-python",
   "name": "python",
   "nbconvert_exporter": "python",
   "pygments_lexer": "ipython3",
   "version": "3.8.3"
  }
 },
 "nbformat": 4,
 "nbformat_minor": 4
}
