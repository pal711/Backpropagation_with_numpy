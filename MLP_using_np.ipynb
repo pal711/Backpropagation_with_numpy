{
 "cells": [
  {
   "cell_type": "markdown",
   "metadata": {},
   "source": [
    "# Introduction\n",
    "This "
   ]
  },
  {
   "cell_type": "code",
   "execution_count": 12,
   "metadata": {},
   "outputs": [],
   "source": [
    "import numpy as np"
   ]
  },
  {
   "cell_type": "code",
   "execution_count": 37,
   "metadata": {},
   "outputs": [],
   "source": [
    "class Network:\n",
    "    \n",
    "    def __init__(self, architecture, activation= 'sigmoid', learning_rate= 0.001):\n",
    "        self.architecture= architecture\n",
    "        #self.activation= activation\n",
    "        self.lr= learning_rate\n",
    "        self.parameters=[]\n",
    "        self.buffered_op={}\n",
    "        #self.prime_funcs=[]\n",
    "        \n",
    "        if isinstance(activation, str):\n",
    "            if activation.lower().strip() in ['relu', 'sigmoid']:\n",
    "                if activation.lower().strip()== 'relu':\n",
    "                    self.activation= [self.relu for x in range(len(self.architecture) - 1)]\n",
    "                    self.prime_funcs = [self.relu_prime for x in range(len(self.architecture) - 1)]\n",
    "                else:\n",
    "                    self.activation= [self.sigmoid for x in range(len(self.architecture) - 1)]\n",
    "                    self.prime_funcs = [self.sigmoid_prime for x in range(len(self.architecture) - 1)]\n",
    "                    \n",
    "            else:\n",
    "                raise ValueError(\"activation Value should be either relu or sigmoid\")\n",
    "                    \n",
    "        \n",
    "        for i in range(len(architecture) -1):\n",
    "            layer_parameters= self.create_weights_and_biases(architecture[i], architecture[i + 1])\n",
    "            self.parameters.append(layer_parameters)\n",
    "        \n",
    "        \n",
    "    def create_weights_and_biases(self, in_nodes, out_nodes):\n",
    "        std= np.sqrt(2.0/(in_nodes + out_nodes))\n",
    "        w= np.random.normal(loc= 0, scale= std, size= (in_nodes, out_nodes))\n",
    "        b= np.zeros((1, out_nodes))\n",
    "        return {'weight':w , 'bias':b}\n",
    "    \n",
    "    def sigmoid(self, x):\n",
    "        return 1 / (1 + np.exp(-x))\n",
    "    \n",
    "    def relu(self, x):\n",
    "        return 0 if x<0 else x\n",
    "    \n",
    "    def sigmoid_prime(self, x):\n",
    "        return self.sigmoid(x) * (1 - self.sigmoid(x))    \n",
    "    \n",
    "    def relu_prime(self, x):\n",
    "        return 1 if x>0 else 0\n",
    "\n",
    "    def forward_pass(self, x):\n",
    "        if x.ndim == 1:\n",
    "            x= x.reshape((1, -1))\n",
    "        self.buffered_op['a0']= x\n",
    "        for i, parameter in enumerate(self.parameters):\n",
    "            w= parameter['weight']\n",
    "            b= parameter['bias']\n",
    "            actv_func= self.activation[i]\n",
    "            \n",
    "            h= np.matmul(x, w) + b\n",
    "            a= actv_func(h)\n",
    "            self.buffered_op['h' + str(i+1)]= h\n",
    "            self.buffered_op['a' + str(i+1)]= a\n",
    "            x= a\n",
    "        return a\n",
    "    \n",
    "    def loss(self, y_cap, y):\n",
    "        return (y - y_cap) ** 2 #MSE\n",
    "    \n",
    "    def loss_prime(self, y_cap, y):\n",
    "        return -2 * (y - y_cap)\n",
    "    \n",
    "    def backpropagation(self,y_cap, y):\n",
    "        #last_layer= True\n",
    "        layer_error= self.loss_prime( y_cap, y)\n",
    "        gradients= []\n",
    "        batch_size= y_cap.shape[0]\n",
    "        \n",
    "        \n",
    "        for layer_idx in range(len(self.architecture) - 1, 0 , -1):\n",
    "            prime_func= self.prime_funcs[layer_idx - 1]\n",
    "            h_cur= self.buffered_op['h'+str(layer_idx)]\n",
    "            a_prev= self.buffered_op['a'+str(layer_idx - 1)]\n",
    "            \n",
    "            \n",
    "            error_term= layer_error * prime_func(h_cur)\n",
    "            del_w= np.matmul(error_term.T , a_prev)\n",
    "            del_b= error_term.sum(axis= 0)\n",
    "            gradients.append((del_w, del_b))\n",
    "            \n",
    "            #updating layer_error term for next iteration\n",
    "            layer_error= np.matmul(error_term , self.parameters[layer_idx -1]['weight'].T)\n",
    "            \n",
    "        gradients.reverse()\n",
    "        \n",
    "        #updating the weights:\n",
    "        for i in range(len(self.parameters)):\n",
    "            self.parameters[i]['weight'] -= (self.lr / batch_size) * gradients[i][0].T\n",
    "            self.parameters[i]['bias'] -= (self.lr / batch_size) * gradients[i][1]\n",
    "            \n",
    "    def train(self, train_x, train_y, epochs= 5, learning_rate= 0.01, batch_size= 1):\n",
    "        no_of_records= train_x.shape[0]\n",
    "        self.lr= learning_rate\n",
    "    \n",
    "        for epoch in range(epochs):\n",
    "            epoch_error= 0\n",
    "            for n in range(batch_size, no_of_records, batch_size):\n",
    "                x_batch= train_x[n- batch_size: n]\n",
    "                y_batch= train_y[n- batch_size: n]\n",
    "        \n",
    "                y_cap= self.forward_pass(x_batch)\n",
    "                batch_error= self.loss(y_cap, y_batch)\n",
    "                #print(batch_error.shape)\n",
    "                epoch_error+= batch_error.sum()\n",
    "                self.backpropagation(y_cap, y_batch)\n",
    "        \n",
    "            print(\"Epoch {} - Training Loss - {}\\n\".format(epoch+1, epoch_error))\n",
    "            \n",
    "            "
   ]
  },
  {
   "cell_type": "code",
   "execution_count": 1,
   "metadata": {},
   "outputs": [],
   "source": [
    "from sklearn.datasets import load_breast_cancer\n",
    "from sklearn.preprocessing import StandardScaler\n",
    "from sklearn.model_selection import train_test_split"
   ]
  },
  {
   "cell_type": "code",
   "execution_count": 3,
   "metadata": {},
   "outputs": [
    {
     "data": {
      "text/plain": [
       "sklearn.utils.Bunch"
      ]
     },
     "execution_count": 3,
     "metadata": {},
     "output_type": "execute_result"
    }
   ],
   "source": [
    "data= load_breast_cancer()\n",
    "x= data.data\n",
    "y= data.target\n",
    "cols= data.target_names\n",
    "print(type(x))\n",
    "print(x.shape)"
   ]
  },
  {
   "cell_type": "code",
   "execution_count": 9,
   "metadata": {},
   "outputs": [],
   "source": [
    "scaler= StandardScaler()\n",
    "scaler.fit(x)\n",
    "scaled_x= scaler.transform(x)"
   ]
  },
  {
   "cell_type": "code",
   "execution_count": 10,
   "metadata": {},
   "outputs": [
    {
     "data": {
      "text/plain": [
       "array([0, 0, 0, 0, 0])"
      ]
     },
     "execution_count": 10,
     "metadata": {},
     "output_type": "execute_result"
    }
   ],
   "source": [
    "y[:5]"
   ]
  },
  {
   "cell_type": "code",
   "execution_count": 17,
   "metadata": {},
   "outputs": [
    {
     "name": "stdout",
     "output_type": "stream",
     "text": [
      "(455, 30)\n"
     ]
    }
   ],
   "source": [
    "y= y.reshape((-1,1))\n",
    "x_train, x_test, y_train, y_test= train_test_split(scaled_x, y, test_size= 0.2, \n",
    "                                                   shuffle= True, random_state= 711)\n",
    "print(x_train.shape)"
   ]
  },
  {
   "cell_type": "code",
   "execution_count": 38,
   "metadata": {},
   "outputs": [
    {
     "name": "stdout",
     "output_type": "stream",
     "text": [
      "Epoch 1 - Training Loss - 102.66467232428076\n",
      "\n",
      "Epoch 2 - Training Loss - 99.95026271754116\n",
      "\n",
      "Epoch 3 - Training Loss - 97.72598637856396\n",
      "\n",
      "Epoch 4 - Training Loss - 94.80796355620676\n",
      "\n",
      "Epoch 5 - Training Loss - 90.92556572092928\n",
      "\n",
      "Epoch 6 - Training Loss - 85.8607762992137\n",
      "\n",
      "Epoch 7 - Training Loss - 79.4910720040271\n",
      "\n",
      "Epoch 8 - Training Loss - 71.91720291881406\n",
      "\n",
      "Epoch 9 - Training Loss - 63.56952375091343\n",
      "\n",
      "Epoch 10 - Training Loss - 55.154046178245856\n",
      "\n",
      "Epoch 11 - Training Loss - 47.38928911171898\n",
      "\n",
      "Epoch 12 - Training Loss - 40.72677981003927\n",
      "\n",
      "Epoch 13 - Training Loss - 35.27802826260151\n",
      "\n",
      "Epoch 14 - Training Loss - 30.926439963211653\n",
      "\n",
      "Epoch 15 - Training Loss - 27.469264711094166\n",
      "\n",
      "Epoch 16 - Training Loss - 24.7046041637634\n",
      "\n",
      "Epoch 17 - Training Loss - 22.464695638282887\n",
      "\n",
      "Epoch 18 - Training Loss - 20.62135010259302\n",
      "\n",
      "Epoch 19 - Training Loss - 19.08241642887373\n",
      "\n",
      "Epoch 20 - Training Loss - 17.786152646219524\n",
      "\n",
      "Epoch 21 - Training Loss - 16.69105515184859\n",
      "\n",
      "Epoch 22 - Training Loss - 15.762781861893721\n",
      "\n",
      "Epoch 23 - Training Loss - 14.969507717996404\n",
      "\n",
      "Epoch 24 - Training Loss - 14.28440584986853\n",
      "\n",
      "Epoch 25 - Training Loss - 13.686599816170983\n",
      "\n"
     ]
    }
   ],
   "source": [
    "neu_net= Network([30, 10, 5, 1])\n",
    "neu_net.train( x_train, y_train, epochs= 25, learning_rate= 0.1, batch_size= 8)"
   ]
  },
  {
   "cell_type": "code",
   "execution_count": 41,
   "metadata": {},
   "outputs": [],
   "source": [
    "def acuracy_check_binary_classifier(predicted, actual):\n",
    "    y_test_cap= np.zeros_like(predicted)\n",
    "    y_test_cap[predicted >= 0.5] = 1\n",
    "    correct_pred_count= (y_test_cap== actual).sum()\n",
    "    return 100 * correct_pred_count / len(actual)"
   ]
  },
  {
   "cell_type": "code",
   "execution_count": 42,
   "metadata": {},
   "outputs": [
    {
     "name": "stdout",
     "output_type": "stream",
     "text": [
      "96.49122807017544\n"
     ]
    }
   ],
   "source": [
    "pred= neu_net.forward_pass(x_test)\n",
    "print(acuracy_check_binary_classifier(pred, y_test))"
   ]
  },
  {
   "cell_type": "code",
   "execution_count": null,
   "metadata": {},
   "outputs": [],
   "source": []
  }
 ],
 "metadata": {
  "kernelspec": {
   "display_name": "Python 3",
   "language": "python",
   "name": "python3"
  },
  "language_info": {
   "codemirror_mode": {
    "name": "ipython",
    "version": 3
   },
   "file_extension": ".py",
   "mimetype": "text/x-python",
   "name": "python",
   "nbconvert_exporter": "python",
   "pygments_lexer": "ipython3",
   "version": "3.8.3"
  }
 },
 "nbformat": 4,
 "nbformat_minor": 4
}
