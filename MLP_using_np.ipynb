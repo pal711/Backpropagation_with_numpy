{
 "cells": [
  {
   "cell_type": "markdown",
   "metadata": {},
   "source": [
    "# Introduction\n",
    "This "
   ]
  },
  {
   "cell_type": "code",
   "execution_count": 1,
   "metadata": {},
   "outputs": [],
   "source": [
    "import numpy as np\n"
   ]
  },
  {
   "cell_type": "code",
   "execution_count": 42,
   "metadata": {},
   "outputs": [],
   "source": [
    "class Network:\n",
    "    \n",
    "    def __init__(self, architecture, activation= 'sigmoid', learning_rate= 0.001):\n",
    "        self.architecture= architecture\n",
    "        #self.activation= activation\n",
    "        self.lr= learning_rate\n",
    "        self.parameters=[]\n",
    "        self.buffered_op={}\n",
    "        #self.prime_funcs=[]\n",
    "        \n",
    "        if isinstance(activation, str):\n",
    "            if activation.lower().strip() in ['relu', 'sigmoid']:\n",
    "                if activation.lower().strip()== 'relu':\n",
    "                    self.activation= [self.relu for x in range(len(self.architecture) - 1)]\n",
    "                    self.prime_funcs = [self.relu_prime for x in range(len(self.architecture) - 1)]\n",
    "                else:\n",
    "                    self.activation= [self.sigmoid for x in range(len(self.architecture) - 1)]\n",
    "                    self.prime_funcs = [self.sigmoid_prime for x in range(len(self.architecture) - 1)]\n",
    "                    \n",
    "            else:\n",
    "                raise ValueError(\"activation Value should be either relu or sigmoid\")\n",
    "                    \n",
    "        \n",
    "        for i in range(len(architecture) -1):\n",
    "            layer_parameters= self.create_weights_and_biases(architecture[i], architecture[i + 1])\n",
    "            self.parameters.append(layer_parameters)\n",
    "        \n",
    "        \n",
    "    def create_weights_and_biases(self, in_nodes, out_nodes):\n",
    "        std= np.sqrt(2.0/(in_nodes + out_nodes))\n",
    "        w= np.random.normal(loc= 0, scale= std, size= (in_nodes, out_nodes))\n",
    "        b= np.zeros((1, out_nodes))\n",
    "        return {'weight':w , 'bias':b}\n",
    "    \n",
    "    def sigmoid(self, x):\n",
    "        return 1 / (1 + np.exp(-x))\n",
    "    \n",
    "    def relu(self, x):\n",
    "        return 0 if x<0 else x\n",
    "    \n",
    "    def sigmoid_prime(self, x):\n",
    "        return self.sigmoid(x) * (1 - self.sigmoid(x))    \n",
    "    \n",
    "    def relu_prime(self, x):\n",
    "        return 1 if x>0 else 0\n",
    "\n",
    "    def forward_pass(self, x):\n",
    "        if x.ndim == 1:\n",
    "            x= x.reshape((1, -1))\n",
    "        self.buffered_op['a0']= x\n",
    "        for i, parameter in enumerate(self.parameters):\n",
    "            w= parameter['weight']\n",
    "            b= parameter['bias']\n",
    "            actv_func= self.activation[i]\n",
    "            \n",
    "            h= np.matmul(x, w) + b\n",
    "            a= actv_func(h)\n",
    "            self.buffered_op['h' + str(i+1)]= h\n",
    "            self.buffered_op['a' + str(i+1)]= a\n",
    "            x= a\n",
    "        return a\n",
    "    \n",
    "    def loss(self, y_cap, y):\n",
    "        return (y - y_cap) ** 2 #MSE\n",
    "    \n",
    "    def loss_prime(self, y_cap, y):\n",
    "        return -2 * (y - y_cap)\n",
    "    \n",
    "    def backpropagation(self,y_cap, y):\n",
    "        #last_layer= True\n",
    "        layer_error= self.loss_prime( y_cap, y)\n",
    "        gradients= []\n",
    "        batch_size= y_cap.shape[0]\n",
    "        \n",
    "        \n",
    "        for layer_idx in range(len(self.architecture) - 1, 0 , -1):\n",
    "            prime_func= self.prime_funcs[layer_idx - 1]\n",
    "            h_cur= self.buffered_op['h'+str(layer_idx)]\n",
    "            a_prev= self.buffered_op['a'+str(layer_idx - 1)]\n",
    "            \n",
    "            \n",
    "            error_term= layer_error * prime_func(h_cur)\n",
    "            del_w= np.matmul(error_term.T , a_prev)\n",
    "            del_b= error_term.sum(axis= 0)\n",
    "            gradients.append((del_w, del_b))\n",
    "            \n",
    "            #updating layer_error term for next iteration\n",
    "            layer_error= np.matmul(error_term , self.parameters[layer_idx -1]['weight'].T)\n",
    "            \n",
    "        gradients.reverse()\n",
    "        \n",
    "        #updating the weights:\n",
    "        for i in range(len(self.parameters)):\n",
    "            self.parameters[i]['weight'] -= (self.lr / batch_size) * gradients[i][0].T\n",
    "            self.parameters[i]['bias'] -= (self.lr / batch_size) * gradients[i][1]\n",
    "            \n",
    "            "
   ]
  },
  {
   "cell_type": "code",
   "execution_count": 43,
   "metadata": {},
   "outputs": [],
   "source": [
    "nn= Network([5, 3, 1], learning_rate= 0.1)"
   ]
  },
  {
   "cell_type": "code",
   "execution_count": 44,
   "metadata": {},
   "outputs": [
    {
     "name": "stdout",
     "output_type": "stream",
     "text": [
      "[[0.41128373]\n",
      " [0.44070925]]\n"
     ]
    }
   ],
   "source": [
    "ip= np.array([[1,3,5,7,9],[2,3,4,1,1]])\n",
    "op= nn.forward_pass(ip)\n",
    "print(op)"
   ]
  },
  {
   "cell_type": "code",
   "execution_count": 53,
   "metadata": {},
   "outputs": [],
   "source": [
    "exp_op= np.array([[1.0], [0.0]])\n",
    "nn.backpropagation(op, exp_op)"
   ]
  },
  {
   "cell_type": "code",
   "execution_count": 54,
   "metadata": {},
   "outputs": [
    {
     "name": "stdout",
     "output_type": "stream",
     "text": [
      "[[0.44039955]\n",
      " [0.45590399]]\n"
     ]
    }
   ],
   "source": [
    "ip= np.array([[1,3,5,7,9],[2,3,4,1,1]])\n",
    "op= nn.forward_pass(ip)\n",
    "print(op)"
   ]
  },
  {
   "cell_type": "code",
   "execution_count": null,
   "metadata": {},
   "outputs": [],
   "source": []
  }
 ],
 "metadata": {
  "kernelspec": {
   "display_name": "Python 3",
   "language": "python",
   "name": "python3"
  },
  "language_info": {
   "codemirror_mode": {
    "name": "ipython",
    "version": 3
   },
   "file_extension": ".py",
   "mimetype": "text/x-python",
   "name": "python",
   "nbconvert_exporter": "python",
   "pygments_lexer": "ipython3",
   "version": "3.8.3"
  }
 },
 "nbformat": 4,
 "nbformat_minor": 4
}
